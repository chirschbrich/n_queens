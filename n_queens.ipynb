{
 "cells": [
  {
   "cell_type": "markdown",
   "metadata": {},
   "source": [
    "# Solving the n-Queens Problem using Local Search\n",
    "\n",
    "Student Name: Chris Hirschbrich\n",
    "\n",
    "I have used the following AI tools: Github Copilot\n",
    "\n",
    "I understand that my submission needs to be my own work: CH\n",
    "\n",
    "## Instructions\n",
    "\n",
    "Total Points: Undergrads 100 + 5 bonus / Graduate students 110\n",
    "\n",
    "Complete this notebook. Use the provided notebook cells and insert additional code and markdown cells as needed. Submit the completely rendered notebook as a HTML file. \n"
   ]
  },
  {
   "cell_type": "markdown",
   "metadata": {},
   "source": [
    "## The n-Queens Problem\n",
    "\n",
    "* __Goal:__ Find an arrangement of $n$ queens on a $n \\times n$ chess board so that no queen is on the same row, column or diagonal as any other queen.\n",
    "\n",
    "* __State space:__ An arrangement of the queens on the board. We restrict the state space to arrangements where there is only a single queen per column. We represent a state as an integer vector $\\mathbf{q} = \\{q_1, q_2, \\dots, q_n\\}$, each number representing the row positions of the queens from left to right. We will call a state a \"board.\"\n",
    "\n",
    "* __Objective function:__ The number of pairwise conflicts (i.e., two queens in the same row/column/diagonal).\n",
    "The optimization problem is to find the optimal arrangement $\\mathbf{q}^*$ of $n$ queens on the board can be written as:\n",
    "\n",
    "  > minimize: $\\mathrm{conflicts}(\\mathbf{q})$\n",
    "  >\n",
    "  > subject to: $\\mathbf{q} \\ \\text{contains only one queen per column}$\n",
    "\n",
    "  Note: the constraint (subject to) is enforced by the definition of the state space.\n",
    "\n",
    "* __Local improvement move:__ Move one queen to a different row in its column.\n",
    "\n",
    "* __Termination:__ For this problem there is always an arrangement $\\mathbf{q}^*$ with $\\mathrm{conflicts}(\\mathbf{q}^*) = 0$, however, the local improvement moves might end up in a local minimum. "
   ]
  },
  {
   "cell_type": "markdown",
   "metadata": {},
   "source": [
    "## Helper functions"
   ]
  },
  {
   "cell_type": "code",
   "execution_count": 1,
   "metadata": {},
   "outputs": [],
   "source": [
    "import numpy as np\n",
    "import matplotlib.pyplot as plt\n",
    "from matplotlib import colors\n",
    "\n",
    "np.random.seed(1234)\n",
    "\n",
    "\n",
    "def random_board(n):\n",
    "    \"\"\"Creates a random board of size n x n. Note that only a single queen is placed in each column!\"\"\"\n",
    "    \n",
    "    return(np.random.randint(0,n, size = n))\n",
    "\n",
    "def comb2(n): return n*(n-1)//2 # this is n choose 2 equivalent to math.comb(n, 2); // is int division\n",
    "\n",
    "def conflicts(board):\n",
    "    \"\"\"Calculate the number of conflicts, i.e., the objective function.\"\"\"\n",
    "\n",
    "    n = len(board)\n",
    "    \n",
    "    horizontal_cnt = [0] * n\n",
    "    diagonal1_cnt = [0] * 2 * n\n",
    "    diagonal2_cnt = [0] * 2 * n\n",
    "    \n",
    "    for i in range(n):\n",
    "        horizontal_cnt[board[i]] += 1\n",
    "        diagonal1_cnt[i + board[i]] += 1\n",
    "        diagonal2_cnt[i - board[i] + n] += 1\n",
    "    \n",
    "    return sum(map(comb2, horizontal_cnt + diagonal1_cnt + diagonal2_cnt))\n",
    "\n",
    "# decrease the font size to fit larger boards\n",
    "def show_board(board, cols = ['white', 'gray'], fontsize = 48):  \n",
    "    \"\"\"display the board\"\"\"\n",
    "    \n",
    "    n = len(board)\n",
    "    \n",
    "    # create chess board display\n",
    "    display = np.zeros([n,n])\n",
    "    for i in range(n):\n",
    "        for j in range(n):\n",
    "            if (((i+j) % 2) != 0): \n",
    "                display[i,j] = 1\n",
    "    \n",
    "    cmap = colors.ListedColormap(cols)\n",
    "    fig, ax = plt.subplots()\n",
    "    ax.imshow(display, cmap = cmap, \n",
    "              norm = colors.BoundaryNorm(range(len(cols)+1), cmap.N))\n",
    "    ax.set_xticks([])\n",
    "    ax.set_yticks([])\n",
    "    \n",
    "    # place queens. Note: Unicode u265B is a black queen\n",
    "    for j in range(n):\n",
    "        plt.text(j, board[j], u\"\\u265B\", fontsize = fontsize, \n",
    "                 horizontalalignment = 'center',\n",
    "                 verticalalignment = 'center')\n",
    "    \n",
    "    print(f\"Board with {conflicts(board)} conflicts.\")\n",
    "    plt.show()"
   ]
  },
  {
   "cell_type": "markdown",
   "metadata": {},
   "source": [
    "## Create a board"
   ]
  },
  {
   "cell_type": "code",
   "execution_count": 2,
   "metadata": {},
   "outputs": [
    {
     "name": "stdout",
     "output_type": "stream",
     "text": [
      "Board with 4 conflicts.\n"
     ]
    },
    {
     "data": {
      "image/png": "[encoded data removed]",
      "text/plain": [
       "<Figure size 432x288 with 1 Axes>"
      ]
     },
     "metadata": {},
     "output_type": "display_data"
    },
    {
     "name": "stdout",
     "output_type": "stream",
     "text": [
      "Queens (left to right) are at rows: [3 3 2 1]\n",
      "Number of conflicts: 4\n"
     ]
    }
   ],
   "source": [
    "board = random_board(4)\n",
    "\n",
    "show_board(board)\n",
    "print(f\"Queens (left to right) are at rows: {board}\")\n",
    "print(f\"Number of conflicts: {conflicts(board)}\")"
   ]
  },
  {
   "cell_type": "markdown",
   "metadata": {},
   "source": [
    "A board $4 \\times 4$ with no conflicts:"
   ]
  },
  {
   "cell_type": "code",
   "execution_count": 3,
   "metadata": {},
   "outputs": [
    {
     "name": "stdout",
     "output_type": "stream",
     "text": [
      "Board with 0 conflicts.\n"
     ]
    },
    {
     "data": {
      "image/png": "[encoded data removed]",
      "text/plain": [
       "<Figure size 432x288 with 1 Axes>"
      ]
     },
     "metadata": {},
     "output_type": "display_data"
    }
   ],
   "source": [
    "board = [1,3,0,2]\n",
    "show_board(board)"
   ]
  },
  {
   "cell_type": "markdown",
   "metadata": {},
   "source": [
    "# Tasks\n",
    "\n",
    "## General [10 Points]\n",
    "\n",
    "1. Make sure that you use the latest version of this notebook. Sync your forked repository and pull the latest revision. \n",
    "2. Your implementation can use libraries like math, numpy, scipy, but not libraries that implement intelligent agents or complete search algorithms. Try to keep the code simple! In this course, we want to learn about the algorithms and we often do not need to use object-oriented design.\n",
    "3. You notebook needs to be formatted professionally. \n",
    "    - Add additional markdown blocks for your description, comments in the code, add tables and use mathplotlib to produce charts where appropriate\n",
    "    - Do not show debugging output or include an excessive amount of output.\n",
    "    - Check that your PDF file is readable. For example, long lines are cut off in the PDF file. You don't have control over page breaks, so do not worry about these.\n",
    "4. Document your code. Add a short discussion of how your implementation works and your design choices."
   ]
  },
  {
   "cell_type": "markdown",
   "metadata": {},
   "source": [
    "## Task 1: Steepest-ascend Hill Climbing Search [30 Points]\n",
    "\n",
    "Calculate the objective function for all local moves (see definition of local moves above) and always choose the best among all local moves. If there are no local moves that improve the objective, then you have reached a local optimum. "
   ]
  },
  {
   "cell_type": "code",
   "execution_count": 4,
   "metadata": {},
   "outputs": [],
   "source": [
    "# Steepest-Ascent Hill Climbing\n",
    "def SAHC(board):\n",
    "    best_board = board\n",
    "    best_conflicts = conflicts(board)\n",
    "    n = len(board)\n",
    "    while True:\n",
    "        neighbors = []\n",
    "        for col in range(n):\n",
    "            for row in range(n):\n",
    "                if row != best_board[col]:\n",
    "                    neighbor = best_board.copy()\n",
    "                    neighbor[col] = row\n",
    "                    neighbors.append(neighbor)\n",
    "        \n",
    "        # Evaluate all neighbors\n",
    "        neighbor_conflicts = [conflicts(neighbor) for neighbor in neighbors]\n",
    "        \n",
    "        # Find the best neighbor\n",
    "        min_conflicts = min(neighbor_conflicts)\n",
    "        if min_conflicts >= best_conflicts:\n",
    "            # No better neighbors, local optimum reached\n",
    "            break\n",
    "        \n",
    "        # Update to the best neighbor\n",
    "        best_board = neighbors[neighbor_conflicts.index(min_conflicts)]\n",
    "        best_conflicts = min_conflicts\n",
    "        \n",
    "    return best_board\n",
    "\n",
    "    \n",
    "    "
   ]
  },
  {
   "cell_type": "code",
   "execution_count": 5,
   "metadata": {},
   "outputs": [
    {
     "name": "stdout",
     "output_type": "stream",
     "text": [
      "Board with 0 conflicts.\n"
     ]
    },
    {
     "data": {
      "image/png": "[encoded data removed]",
      "text/plain": [
       "<Figure size 432x288 with 1 Axes>"
      ]
     },
     "metadata": {},
     "output_type": "display_data"
    },
    {
     "name": "stdout",
     "output_type": "stream",
     "text": [
      "reached global optimum: % 39.82\n"
     ]
    }
   ],
   "source": [
    "# Code and description go here\n",
    "count = 0\n",
    "y = 10000\n",
    "for n in range(y):\n",
    "    board = random_board(4)\n",
    "    if conflicts(SAHC(board)) == 0:\n",
    "        count += 1\n",
    "board = random_board(4)\n",
    "show_board(SAHC(board))\n",
    "print(\"reached global optimum: %\", count/y * 100)"
   ]
  },
  {
   "cell_type": "markdown",
   "metadata": {},
   "source": [
    "## Task 2: Stochastic Hill Climbing 1 [10 Points]\n",
    "\n",
    "Chooses randomly from among all uphill moves till you have reached a local optimum."
   ]
  },
  {
   "cell_type": "code",
   "execution_count": 6,
   "metadata": {},
   "outputs": [],
   "source": [
    "def stochastic_hill_climbing(board):\n",
    "    n = len(board)\n",
    "    current_board = board.copy()\n",
    "    current_conflicts = conflicts(current_board)\n",
    "    \n",
    "    while True:\n",
    "        neighbors = []\n",
    "        for col in range(n):\n",
    "            for row in range(n):\n",
    "                if row != current_board[col]:\n",
    "                    neighbor = current_board.copy()\n",
    "                    neighbor[col] = row\n",
    "                    neighbors.append(neighbor)\n",
    "        \n",
    "        # Evaluate all neighbors\n",
    "        neighbor_conflicts = [conflicts(neighbor) for neighbor in neighbors]\n",
    "        \n",
    "        # Find all neighbors with fewer conflicts than the current board\n",
    "        better_neighbors = [neighbors[i] for i in range(len(neighbors)) if neighbor_conflicts[i] < current_conflicts]\n",
    "        \n",
    "        if not better_neighbors:\n",
    "            # No better neighbors, local optimum reached\n",
    "            break\n",
    "        \n",
    "        # Randomly choose one of the better neighbors\n",
    "        current_board = better_neighbors[np.random.randint(len(better_neighbors))]\n",
    "        current_conflicts = conflicts(current_board)\n",
    "    \n",
    "    return current_board\n",
    "\n",
    "\n"
   ]
  },
  {
   "cell_type": "code",
   "execution_count": 7,
   "metadata": {},
   "outputs": [
    {
     "name": "stdout",
     "output_type": "stream",
     "text": [
      "Board with 1 conflicts.\n"
     ]
    },
    {
     "data": {
      "image/png": "[encoded data removed]",
      "text/plain": [
       "<Figure size 432x288 with 1 Axes>"
      ]
     },
     "metadata": {},
     "output_type": "display_data"
    },
    {
     "name": "stdout",
     "output_type": "stream",
     "text": [
      "reached global optimum: % 33.98\n"
     ]
    }
   ],
   "source": [
    "# Code and description go here\n",
    "count = 0\n",
    "y = 10000\n",
    "for n in range(y):\n",
    "    board = random_board(4)\n",
    "    if conflicts(stochastic_hill_climbing(board)) == 0:\n",
    "        count += 1\n",
    "board = random_board(4)\n",
    "show_board(stochastic_hill_climbing(board))\n",
    "print(\"reached global optimum: %\", count/y * 100)"
   ]
  },
  {
   "cell_type": "markdown",
   "metadata": {},
   "source": [
    "## Task 3: Stochastic Hill Climbing 2 [20 Points]\n",
    "\n",
    "A popular version of stochastic hill climbing generates only a single random local neighbor at a time and accept it if it has a better objective function value than the current state. This is very efficient if each state has many possible successor states. This method is called \"First-choice hill climbing\" in the textbook.\n",
    "\n",
    "__Notes:__ \n",
    "\n",
    "* Detecting local optima is tricky! You can, for example, stop if you were not able to improve the objective function during the last $x$ tries."
   ]
  },
  {
   "cell_type": "code",
   "execution_count": 8,
   "metadata": {},
   "outputs": [],
   "source": [
    "def first_choice_hill_climbing(board):\n",
    "    n = len(board)\n",
    "    current_board = board.copy()\n",
    "    current_conflicts = conflicts(current_board)\n",
    "    \n",
    "    while True:\n",
    "        found_better = False\n",
    "        for _ in range(n * n):  # Limit the number of attempts to find a better neighbor\n",
    "            col = np.random.randint(0, n - 1)\n",
    "            row = np.random.randint(0, n - 1)\n",
    "            if row != current_board[col]:\n",
    "                neighbor = current_board.copy()\n",
    "                neighbor[col] = row\n",
    "                neighbor_conflicts = conflicts(neighbor)\n",
    "                \n",
    "                if neighbor_conflicts < current_conflicts:\n",
    "                    current_board = neighbor\n",
    "                    current_conflicts = neighbor_conflicts\n",
    "                    found_better = True\n",
    "                    break\n",
    "        \n",
    "        if not found_better:\n",
    "            # No better neighbor found, local optimum reached\n",
    "            break\n",
    "    \n",
    "    return current_board\n",
    "    "
   ]
  },
  {
   "cell_type": "code",
   "execution_count": 9,
   "metadata": {},
   "outputs": [
    {
     "name": "stdout",
     "output_type": "stream",
     "text": [
      "Board with 2 conflicts.\n"
     ]
    },
    {
     "data": {
      "image/png": "[encoded data removed]",
      "text/plain": [
       "<Figure size 432x288 with 1 Axes>"
      ]
     },
     "metadata": {},
     "output_type": "display_data"
    },
    {
     "name": "stdout",
     "output_type": "stream",
     "text": [
      "709 7.090000000000001\n"
     ]
    }
   ],
   "source": [
    "# Code and description go here\n",
    "count = 0\n",
    "y = 10000\n",
    "for n in range(y):\n",
    "    board = random_board(4)\n",
    "    if conflicts(first_choice_hill_climbing(board)) == 0:\n",
    "        count += 1\n",
    "board = random_board(4)\n",
    "show_board(first_choice_hill_climbing(board))\n",
    "print(count, count/y * 100)"
   ]
  },
  {
   "cell_type": "markdown",
   "metadata": {},
   "source": [
    "## Task 4: Hill Climbing Search with Random Restarts [10 Points]\n",
    "\n",
    "Hill climbing will often end up in local optima. Restart the each of the three hill climbing algorithm up to 100 times with a random board to find a better (hopefully optimal) solution. Note that restart just means to run the algorithm several times starting with a new random board."
   ]
  },
  {
   "cell_type": "code",
   "execution_count": 29,
   "metadata": {},
   "outputs": [],
   "source": [
    "# Code and description go here\n",
    "import timeit\n",
    "\n",
    "def random_restarts(x):\n",
    "    print(\"Steepest-Ascend Hill Climbing\")\n",
    "    num_conflicts = 0\n",
    "    opt_solution = 0\n",
    "    avg_runtime = 0\n",
    "    best_board = random_board(x)\n",
    "    for n in range(100):\n",
    "        start = timeit.default_timer()\n",
    "        board = random_board(x)\n",
    "        board = SAHC(board)  # Capture the result of SAHC\n",
    "        if conflicts(board) < conflicts(best_board):\n",
    "            best_board = board\n",
    "        if conflicts(board) == 0:\n",
    "            opt_solution += 1\n",
    "        num_conflicts += conflicts(board)\n",
    "        stop = timeit.default_timer()\n",
    "        avg_runtime += stop - start\n",
    "    avg_runtime /= 100\n",
    "\n",
    "    \n",
    "\n",
    "    print (\"Average Run-Time: \", avg_runtime)\n",
    "    print(\"Average number of conflicts: \", num_conflicts / 100)\n",
    "    print(\"% of runs ending in optimal solution\", opt_solution)\n",
    "    print(\"-------------------------\")\n",
    "\n",
    "\n",
    "    print(\"Stochastic Hill Climbing\")\n",
    "    num_conflicts = 0\n",
    "    opt_solution = 0\n",
    "    avg_runtime = 0\n",
    "    best_board = random_board(x)\n",
    "    for n in range(100):\n",
    "        start = timeit.default_timer()\n",
    "        board = random_board(x)\n",
    "        board = stochastic_hill_climbing(board)  # Capture the result of SAHC\n",
    "        if conflicts(board) < conflicts(best_board):\n",
    "            best_board = board\n",
    "        if conflicts(board) == 0:\n",
    "            opt_solution += 1\n",
    "        num_conflicts += conflicts(board)\n",
    "        stop = timeit.default_timer()\n",
    "        avg_runtime += stop - start\n",
    "    avg_runtime /= 100\n",
    "\n",
    "    \n",
    "\n",
    "    print (\"Average Run-Time: \", avg_runtime)\n",
    "    print(\"Average number of conflicts: \", num_conflicts / 100)\n",
    "    print(\"% of runs ending in optimal solution\", opt_solution)\n",
    "    print(\"-------------------------\")\n",
    "\n",
    "\n",
    "    print(\"First Choice Hill Climbing\")\n",
    "    num_conflicts = 0\n",
    "    opt_solution = 0\n",
    "    avg_runtime = 0\n",
    "    best_board = random_board(x)\n",
    "    for n in range(100):\n",
    "        start = timeit.default_timer()\n",
    "        board = random_board(x)\n",
    "        board = first_choice_hill_climbing(board)  # Capture the result of SAHC\n",
    "        if conflicts(board) < conflicts(best_board):\n",
    "            best_board = board\n",
    "        if conflicts(board) == 0:\n",
    "            opt_solution += 1\n",
    "        num_conflicts += conflicts(board)\n",
    "        stop = timeit.default_timer()\n",
    "        avg_runtime += stop - start\n",
    "    avg_runtime /= 100\n",
    "\n",
    "    \n",
    "\n",
    "    print (\"Average Run-Time: \", avg_runtime)\n",
    "    print(\"Average number of conflicts: \", num_conflicts / 100)\n",
    "    print(\"% of runs ending in optimal solution\", opt_solution)\n",
    "    print(\"-------------------------\")\n",
    "\n",
    "    "
   ]
  },
  {
   "cell_type": "code",
   "execution_count": 30,
   "metadata": {},
   "outputs": [
    {
     "name": "stdout",
     "output_type": "stream",
     "text": [
      "Steepest-Ascend Hill Climbing\n",
      "Average Run-Time:  0.00013938555985077984\n",
      "Average number of conflicts:  0.58\n",
      "% of runs ending in optimal solution 45\n",
      "-------------------------\n",
      "Stochastic Hill Climbing\n",
      "Average Run-Time:  0.00015413495973916723\n",
      "Average number of conflicts:  0.83\n",
      "% of runs ending in optimal solution 32\n",
      "-------------------------\n",
      "First Choice Hill Climbing\n",
      "Average Run-Time:  0.00031180649999441813\n",
      "Average number of conflicts:  1.6\n",
      "% of runs ending in optimal solution 13\n",
      "-------------------------\n",
      "Steepest-Ascend Hill Climbing\n",
      "Average Run-Time:  0.0013616137100325432\n",
      "Average number of conflicts:  1.23\n",
      "% of runs ending in optimal solution 19\n",
      "-------------------------\n",
      "Stochastic Hill Climbing\n",
      "Average Run-Time:  0.0020848499500789332\n",
      "Average number of conflicts:  1.34\n",
      "% of runs ending in optimal solution 12\n",
      "-------------------------\n",
      "First Choice Hill Climbing\n",
      "Average Run-Time:  0.0007870123903921922\n",
      "Average number of conflicts:  1.93\n",
      "% of runs ending in optimal solution 3\n",
      "-------------------------\n"
     ]
    }
   ],
   "source": [
    "random_restarts(4)\n",
    "random_restarts(8)"
   ]
  },
  {
   "cell_type": "markdown",
   "metadata": {},
   "source": [
    "## Task 5: Simulated Annealing [10 Points]\n",
    "\n",
    "Simulated annealing is a form of stochastic hill climbing that avoid local optima by also allowing downhill moves with a probability proportional to a temperature. The temperature is decreased in every iteration following an annealing schedule. You have to experiment with the annealing schedule (Google to find guidance on this).\n",
    "\n",
    "\n",
    "1. Implement simulated annealing for the n-Queens problem.\n",
    "2. Compare the performance with the previous algorithms. \n",
    "3. Discuss your choice of annealing schedule."
   ]
  },
  {
   "cell_type": "code",
   "execution_count": 21,
   "metadata": {},
   "outputs": [],
   "source": [
    "def simulated_annealing(board):\n",
    "    n = len(board)\n",
    "    current_board = board.copy()\n",
    "    current_conflicts = conflicts(current_board)\n",
    "    temperature = 100  # Initial temperature\n",
    "    \n",
    "    while temperature > 0.01:  # Stop when temperature is very low\n",
    "            neighbors = []\n",
    "            for col in range(n):\n",
    "                for row in range(n):\n",
    "                    if row != current_board[col]:\n",
    "                        neighbor = current_board.copy()\n",
    "                        neighbor[col] = row\n",
    "                        neighbors.append(neighbor)\n",
    "            \n",
    "            # Evaluate all neighbors\n",
    "            neighbor_conflicts = [conflicts(neighbor) for neighbor in neighbors]\n",
    "            \n",
    "            # Select a random neighbor\n",
    "            random_index = np.random.randint(len(neighbors))\n",
    "            neighbor = neighbors[random_index]\n",
    "            neighbor_conflicts_value = neighbor_conflicts[random_index]\n",
    "            \n",
    "            # Calculate the difference in conflicts\n",
    "            delta_e = neighbor_conflicts_value - current_conflicts\n",
    "            \n",
    "            # Decide to accept this neighbor\n",
    "            if delta_e < 0 or np.random.rand() < np.exp(-delta_e / temperature):\n",
    "                current_board = neighbor\n",
    "                current_conflicts = neighbor_conflicts_value\n",
    "            \n",
    "            # Gradually reduce the temperature\n",
    "            temperature *= 0.99  # Exponential cooling\n",
    "        \n",
    "    return current_board"
   ]
  },
  {
   "cell_type": "markdown",
   "metadata": {},
   "source": [
    "#### Annealing Schedule: Exponential Cooling\n",
    "The annealing schedule I selected for my implementation employs exponential cooling with a decay rate of 0.99. This allows the temperature to decrease steadily over time, balancing the need for exploration at higher temperatures with eventual convergence as the temperature drops. At the start, when the temperature is high, the algorithm permits moves to solutions with higher conflict counts which accepts worse solutions. This acceptance probability aids the search in exploring diverse areas of the solution space and helps avoid local optima. As the temperature gradually reduces, the likelihood of accepting worse moves decreases, encouraging the algorithm to focus more closely on improving moves, thus aiding convergence.\n",
    "\n",
    "#### Initial Temperature Setting\n",
    "The initial temperature was set to 100, which allows the algorithm to explore a wide range of solutions early in the search. At higher temperatures, simulated annealing can accept a greater number of downhill moves, enhancing its ability to escape from local optima. If the initial temperature is set too low, the algorithm would closely resemble the hill climbing used earlier, quickly converging and potentially becoming trapped in suboptimal regions of the solution space. For larger instances of the n-Queens problem where n is much larger, an even higher initial temperature—such as 500 or 1000—might be appropriate, particularly if the initial configurations contain many conflicts. Higher starting temperatures provide a broader exploration phase, which is beneficial when initial conflict counts are high, ensuring the algorithm has sufficient flexibility to escape complex local optima."
   ]
  },
  {
   "cell_type": "code",
   "execution_count": 31,
   "metadata": {},
   "outputs": [],
   "source": [
    "def sim_restarts(x):\n",
    "    print(\"Simulated Annealing\")\n",
    "    num_conflicts = 0\n",
    "    opt_solution = 0\n",
    "    avg_runtime = 0\n",
    "    best_board = random_board(x)\n",
    "    for n in range(100):\n",
    "        start = timeit.default_timer()\n",
    "        board = random_board(x)\n",
    "        board = simulated_annealing(board)  # Capture the result of SAHC\n",
    "        if conflicts(board) < conflicts(best_board):\n",
    "            best_board = board\n",
    "        if conflicts(board) == 0:\n",
    "            opt_solution += 1\n",
    "        num_conflicts += conflicts(board)\n",
    "        stop = timeit.default_timer()\n",
    "        avg_runtime += stop - start\n",
    "    avg_runtime /= 100\n",
    "\n",
    "    \n",
    "\n",
    "    print (\"Average Run-Time: \", avg_runtime)\n",
    "    print(\"Average number of conflicts: \", num_conflicts / 100)\n",
    "    print(\"% of runs ending in optimal solution\", opt_solution)\n",
    "    print(\"-------------------------\")\n",
    "\n"
   ]
  },
  {
   "cell_type": "code",
   "execution_count": 32,
   "metadata": {},
   "outputs": [
    {
     "name": "stdout",
     "output_type": "stream",
     "text": [
      "Simulated Annealing\n",
      "Average Run-Time:  0.03950651431001461\n",
      "Average number of conflicts:  0.0\n",
      "% of runs ending in optimal solution 100\n",
      "-------------------------\n",
      "Simulated Annealing\n",
      "Average Run-Time:  0.29328166298000724\n",
      "Average number of conflicts:  0.53\n",
      "% of runs ending in optimal solution 47\n",
      "-------------------------\n"
     ]
    }
   ],
   "source": [
    "sim_restarts(4)\n",
    "sim_restarts(8)\n"
   ]
  },
  {
   "cell_type": "markdown",
   "metadata": {},
   "source": [
    "## Task 6: Compare Performance [10 Points]\n",
    "\n",
    "Compare the algorithm using runtime and objective function values. Use boards of size 4 and 8 to explore how the different algorithms perform. Make sure that you run the algorithms for each board size several times (at least 100 times) with different starting boards and report averages.\n",
    "\n",
    "Complete the following table\n",
    "\n",
    "| Algorithm           | Board size | Avg. Run time | Avg. number of conflicts | % of runs ending in optimal solution  |\n",
    "| ------------------- | ---------- | ------------- | --------------------------------- | - |\n",
    "| Steepest asc. HC    |     4      |    0.0001           |   0.58                                | 45   |\n",
    "| Stochastic HC 1     |     4      |    0.0002           |   0.83                                | 32   |\n",
    "| Stochastic HC 2     |     4      |    0.0003           |   1.60                                | 13   |\n",
    "| Simulated Annealing |     4      |    0.0395           |   0.00                                | 100  |\n",
    "| Steepest asc. HC    |     8      |    0.0013           |   1.23                                | 19  |\n",
    "| Stochastic HC 1     |     8      |    0.0020           |   1.34                                | 12  |\n",
    "| Stochastic HC 2     |     8      |    0.0007           |   1.93                                | 3  |\n",
    "| Simulated Annealing |     8      |    0.2932           |   0.53                                | 47  |\n",
    "| Steepest asc. HC    |     12     |    0.0064           |   1.65                                | 8   |\n",
    "| Stochastic HC 1     |     12     |    0.0002           |   1.83                                | 8   |\n",
    "| Stochastic HC 2     |     12     |    0.0030           |   2.77                                | 2   |\n",
    "| Simulated Annealing |     12     |    0.9527           |   1.11                                | 15  |\n",
    "| Steepest asc. HC    |     16     |    0.0186           |   2.04                                | 1  |\n",
    "| Stochastic HC 1     |     16     |    0.0293           |   2.25                                | 5  |\n",
    "| Stochastic HC 2     |     16     |    0.0063           |   2.85                                | 0  |\n",
    "| Simulated Annealing |     16     |    2.2603           |   1.81                                | 3  |\n",
    "\n",
    "\n",
    "\n",
    "Add the used code and the answer to the following questions below.\n",
    "\n",
    "* How do the algorithms scale with problem size? You will need to run more board sizes. You can add the results to the table above and show the result as a chart.\n",
    "\n",
    "* What is the largest board each algorithm can solve in a reasonable amount time?\n",
    "\n",
    "Hint: See [Profiling Python Code](../HOWTOs/profiling_code.ipynb) for help about how to measure runtime in Python."
   ]
  },
  {
   "cell_type": "code",
   "execution_count": 35,
   "metadata": {},
   "outputs": [
    {
     "name": "stdout",
     "output_type": "stream",
     "text": [
      "Steepest-Ascend Hill Climbing\n",
      "Average Run-Time:  0.006425792150148482\n",
      "Average number of conflicts:  1.65\n",
      "% of runs ending in optimal solution 8\n",
      "-------------------------\n",
      "Stochastic Hill Climbing\n",
      "Average Run-Time:  0.01019448940991424\n",
      "Average number of conflicts:  1.83\n",
      "% of runs ending in optimal solution 8\n",
      "-------------------------\n",
      "First Choice Hill Climbing\n",
      "Average Run-Time:  0.00301429299001029\n",
      "Average number of conflicts:  2.77\n",
      "% of runs ending in optimal solution 2\n",
      "-------------------------\n",
      "Simulated Annealing\n",
      "Average Run-Time:  0.9527455614801147\n",
      "Average number of conflicts:  1.11\n",
      "% of runs ending in optimal solution 15\n",
      "-------------------------\n"
     ]
    }
   ],
   "source": [
    "# Code, results, charts and discussion go here\n",
    "random_restarts(12)\n",
    "sim_restarts(12)"
   ]
  },
  {
   "cell_type": "code",
   "execution_count": 36,
   "metadata": {},
   "outputs": [
    {
     "name": "stdout",
     "output_type": "stream",
     "text": [
      "Steepest-Ascend Hill Climbing\n",
      "Average Run-Time:  0.018662152709985093\n",
      "Average number of conflicts:  2.04\n",
      "% of runs ending in optimal solution 1\n",
      "-------------------------\n",
      "Stochastic Hill Climbing\n",
      "Average Run-Time:  0.02938883785991493\n",
      "Average number of conflicts:  2.25\n",
      "% of runs ending in optimal solution 5\n",
      "-------------------------\n",
      "First Choice Hill Climbing\n",
      "Average Run-Time:  0.006360302280045289\n",
      "Average number of conflicts:  2.85\n",
      "% of runs ending in optimal solution 0\n",
      "-------------------------\n",
      "Simulated Annealing\n",
      "Average Run-Time:  2.2603350733799017\n",
      "Average number of conflicts:  1.81\n",
      "% of runs ending in optimal solution 3\n",
      "-------------------------\n"
     ]
    }
   ],
   "source": [
    "random_restarts(16)\n",
    "sim_restarts(16)"
   ]
  },
  {
   "cell_type": "code",
   "execution_count": 44,
   "metadata": {},
   "outputs": [
    {
     "data": {
      "image/png": "[encoded data removed]",
      "text/plain": [
       "<Figure size 720x432 with 1 Axes>"
      ]
     },
     "metadata": {
      "needs_background": "light"
     },
     "output_type": "display_data"
    },
    {
     "data": {
      "image/png": "[encoded data removed]",
      "text/plain": [
       "<Figure size 720x432 with 1 Axes>"
      ]
     },
     "metadata": {
      "needs_background": "light"
     },
     "output_type": "display_data"
    }
   ],
   "source": [
    "import matplotlib.pyplot as plt\n",
    "# Data for plotting\n",
    "algorithms = ['Steepest asc. HC', 'Stochastic HC 1', 'Stochastic HC 2', 'Simulated Annealing']\n",
    "board_sizes = [4, 8, 12, 16]\n",
    "avg_run_times = [\n",
    "    [0.0001, 0.0013, 0.0064, 0.0186],  # Steepest asc. HC\n",
    "    [0.0002, 0.0020, 0.0002, 0.0293],  # Stochastic HC 1\n",
    "    [0.0003, 0.0007, 0.0030, 0.0063],  # Stochastic HC 2\n",
    "    [0.0395, 0.2932, 0.9527, 2.2603]   # Simulated Annealing\n",
    "]\n",
    "\n",
    "# Plotting\n",
    "plt.figure(figsize=(10, 6))\n",
    "for i, algorithm in enumerate(algorithms):\n",
    "    plt.plot(board_sizes, avg_run_times[i], marker='o', label=algorithm)\n",
    "\n",
    "plt.xlabel('Board Size')\n",
    "plt.ylabel('Average Run Time (seconds)')\n",
    "plt.title('Average Run Time of Each Algorithm')\n",
    "plt.legend()\n",
    "plt.grid(True)\n",
    "plt.show()\n",
    "\n",
    "# graph without simulated annealing because it grows much faster than the other algorithms\n",
    "algorithms = ['Steepest asc. HC', 'Stochastic HC 1', 'Stochastic HC 2']\n",
    "board_sizes = [4, 8, 12, 16]\n",
    "avg_run_times = [\n",
    "    [0.0001, 0.0013, 0.0064, 0.0186],  # Steepest asc. HC\n",
    "    [0.0002, 0.0020, 0.0002, 0.0293],  # Stochastic HC 1\n",
    "    [0.0003, 0.0007, 0.0030, 0.0063]  # Stochastic HC 2 \n",
    "]\n",
    "\n",
    "# Plotting\n",
    "plt.figure(figsize=(10, 6))\n",
    "for i, algorithm in enumerate(algorithms):\n",
    "    plt.plot(board_sizes, avg_run_times[i], marker='o', label=algorithm)\n",
    "\n",
    "plt.xlabel('Board Size')\n",
    "plt.ylabel('Average Run Time (seconds)')\n",
    "plt.title('Average Run Time of Each Algorithm w/o Simulated Annealing')\n",
    "plt.legend()\n",
    "plt.grid(True)\n",
    "plt.show()"
   ]
  },
  {
   "cell_type": "code",
   "execution_count": 47,
   "metadata": {},
   "outputs": [
    {
     "data": {
      "image/png": "[encoded data removed]",
      "text/plain": [
       "<Figure size 720x432 with 1 Axes>"
      ]
     },
     "metadata": {
      "needs_background": "light"
     },
     "output_type": "display_data"
    }
   ],
   "source": [
    "# Data for plotting\n",
    "optimal_solutions = [\n",
    "    [45, 19, 8, 1],  # Steepest asc. HC\n",
    "    [32, 12, 8, 5],  # Stochastic HC 1\n",
    "    [13, 3, 2, 0],   # Stochastic HC 2\n",
    "    [100, 47, 15, 3] # Simulated Annealing\n",
    "]\n",
    "\n",
    "# Plotting\n",
    "algorithms = ['Steepest asc. HC', 'Stochastic HC 1', 'Stochastic HC 2', 'Simulated Annealing']\n",
    "plt.figure(figsize=(10, 6))\n",
    "for i, algorithm in enumerate(algorithms):\n",
    "    plt.plot(board_sizes, optimal_solutions[i], marker='o', label=algorithm)\n",
    "\n",
    "plt.xlabel('Board Size')\n",
    "plt.ylabel('% of Runs Ending in Optimal Solution')\n",
    "plt.title('% of Runs Ending in Optimal Solution')\n",
    "plt.legend()\n",
    "plt.grid(True)\n",
    "plt.show()"
   ]
  },
  {
   "cell_type": "markdown",
   "metadata": {},
   "source": [
    "## Advanced task: Exploring other Local Moves\n",
    "\n",
    "* __Graduate students__ need to complete this task [10 points]\n",
    "* __Undergraduate students__ can attempt this as a bonus task [max +5 bonus points].\n",
    "\n",
    "Implement a few different local moves. Implement:\n",
    "\n",
    "* moving one queen only one square at a time\n",
    "* switching two columns\n",
    "* move two queens at a time \n",
    "\n",
    "Compare the performance of these moves for the 8-Queens problem using your stochastic hill climbing 2 implementation from above. Also consider mixing the use of several types of local moves (e.g., move one queen and moving two queens).\n",
    "\n",
    "Describe what you find out about how well these moves and combinations of these moves work."
   ]
  },
  {
   "cell_type": "code",
   "execution_count": 16,
   "metadata": {
    "tags": []
   },
   "outputs": [],
   "source": [
    "# Code and description go here"
   ]
  },
  {
   "cell_type": "markdown",
   "metadata": {},
   "source": [
    "## More things to do\n",
    "\n",
    "Implement a Genetic Algorithm for the n-Queens problem."
   ]
  },
  {
   "cell_type": "code",
   "execution_count": 17,
   "metadata": {
    "tags": []
   },
   "outputs": [],
   "source": [
    "# Code and description go here"
   ]
  }
 ],
 "metadata": {
  "kernelspec": {
   "display_name": "base",
   "language": "python",
   "name": "python3"
  },
  "language_info": {
   "codemirror_mode": {
    "name": "ipython",
    "version": 3
   },
   "file_extension": ".py",
   "mimetype": "text/x-python",
   "name": "python",
   "nbconvert_exporter": "python",
   "pygments_lexer": "ipython3",
   "version": "3.9.12"
  },
  "toc-autonumbering": false,
  "toc-showcode": false,
  "toc-showmarkdowntxt": false,
  "toc-showtags": false
 },
 "nbformat": 4,
 "nbformat_minor": 4
}
